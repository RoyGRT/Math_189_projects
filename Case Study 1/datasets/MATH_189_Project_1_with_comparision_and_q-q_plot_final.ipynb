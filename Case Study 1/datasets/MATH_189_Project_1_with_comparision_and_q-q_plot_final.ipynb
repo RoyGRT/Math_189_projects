{
 "cells": [
  {
   "cell_type": "markdown",
   "metadata": {},
   "source": [
    "#### Import neccessary modules"
   ]
  },
  {
   "cell_type": "code",
   "execution_count": 5,
   "metadata": {},
   "outputs": [],
   "source": [
    "import pandas as pd\n",
    "import matplotlib.pyplot as plt\n",
    "import numpy as np\n",
    "from statistics import median "
   ]
  },
  {
   "cell_type": "markdown",
   "metadata": {},
   "source": [
    "#### Input Data as Data Frames"
   ]
  },
  {
   "cell_type": "code",
   "execution_count": 7,
   "metadata": {},
   "outputs": [
    {
     "name": "stderr",
     "output_type": "stream",
     "text": [
      "<ipython-input-7-8dfa50bd92fd>:2: ParserWarning: Falling back to the 'python' engine because the 'c' engine does not support regex separators (separators > 1 char and different from '\\s+' are interpreted as regex); you can avoid this warning by specifying engine='python'.\n",
      "  babies23 = pd.read_csv (\"data/babies23.txt\", sep= '\\s{1,}').set_index(\"id\")\n"
     ]
    },
    {
     "data": {
      "text/html": [
       "<div>\n",
       "<style scoped>\n",
       "    .dataframe tbody tr th:only-of-type {\n",
       "        vertical-align: middle;\n",
       "    }\n",
       "\n",
       "    .dataframe tbody tr th {\n",
       "        vertical-align: top;\n",
       "    }\n",
       "\n",
       "    .dataframe thead th {\n",
       "        text-align: right;\n",
       "    }\n",
       "</style>\n",
       "<table border=\"1\" class=\"dataframe\">\n",
       "  <thead>\n",
       "    <tr style=\"text-align: right;\">\n",
       "      <th></th>\n",
       "      <th>pluralty</th>\n",
       "      <th>outcome</th>\n",
       "      <th>date</th>\n",
       "      <th>gestation</th>\n",
       "      <th>sex</th>\n",
       "      <th>wt</th>\n",
       "      <th>parity</th>\n",
       "      <th>race</th>\n",
       "      <th>age</th>\n",
       "      <th>ed</th>\n",
       "      <th>...</th>\n",
       "      <th>drace</th>\n",
       "      <th>dage</th>\n",
       "      <th>ded</th>\n",
       "      <th>dht</th>\n",
       "      <th>dwt</th>\n",
       "      <th>marital</th>\n",
       "      <th>inc</th>\n",
       "      <th>smoke</th>\n",
       "      <th>time</th>\n",
       "      <th>number</th>\n",
       "    </tr>\n",
       "    <tr>\n",
       "      <th>id</th>\n",
       "      <th></th>\n",
       "      <th></th>\n",
       "      <th></th>\n",
       "      <th></th>\n",
       "      <th></th>\n",
       "      <th></th>\n",
       "      <th></th>\n",
       "      <th></th>\n",
       "      <th></th>\n",
       "      <th></th>\n",
       "      <th></th>\n",
       "      <th></th>\n",
       "      <th></th>\n",
       "      <th></th>\n",
       "      <th></th>\n",
       "      <th></th>\n",
       "      <th></th>\n",
       "      <th></th>\n",
       "      <th></th>\n",
       "      <th></th>\n",
       "      <th></th>\n",
       "    </tr>\n",
       "  </thead>\n",
       "  <tbody>\n",
       "    <tr>\n",
       "      <th>15</th>\n",
       "      <td>5</td>\n",
       "      <td>1</td>\n",
       "      <td>1411</td>\n",
       "      <td>284</td>\n",
       "      <td>1</td>\n",
       "      <td>120</td>\n",
       "      <td>1</td>\n",
       "      <td>8</td>\n",
       "      <td>27</td>\n",
       "      <td>5</td>\n",
       "      <td>...</td>\n",
       "      <td>8</td>\n",
       "      <td>31</td>\n",
       "      <td>5</td>\n",
       "      <td>65</td>\n",
       "      <td>110</td>\n",
       "      <td>1</td>\n",
       "      <td>1</td>\n",
       "      <td>0</td>\n",
       "      <td>0</td>\n",
       "      <td>0</td>\n",
       "    </tr>\n",
       "    <tr>\n",
       "      <th>20</th>\n",
       "      <td>5</td>\n",
       "      <td>1</td>\n",
       "      <td>1499</td>\n",
       "      <td>282</td>\n",
       "      <td>1</td>\n",
       "      <td>113</td>\n",
       "      <td>2</td>\n",
       "      <td>0</td>\n",
       "      <td>33</td>\n",
       "      <td>5</td>\n",
       "      <td>...</td>\n",
       "      <td>0</td>\n",
       "      <td>38</td>\n",
       "      <td>5</td>\n",
       "      <td>70</td>\n",
       "      <td>148</td>\n",
       "      <td>1</td>\n",
       "      <td>4</td>\n",
       "      <td>0</td>\n",
       "      <td>0</td>\n",
       "      <td>0</td>\n",
       "    </tr>\n",
       "    <tr>\n",
       "      <th>58</th>\n",
       "      <td>5</td>\n",
       "      <td>1</td>\n",
       "      <td>1576</td>\n",
       "      <td>279</td>\n",
       "      <td>1</td>\n",
       "      <td>128</td>\n",
       "      <td>1</td>\n",
       "      <td>0</td>\n",
       "      <td>28</td>\n",
       "      <td>2</td>\n",
       "      <td>...</td>\n",
       "      <td>5</td>\n",
       "      <td>32</td>\n",
       "      <td>1</td>\n",
       "      <td>99</td>\n",
       "      <td>999</td>\n",
       "      <td>1</td>\n",
       "      <td>2</td>\n",
       "      <td>1</td>\n",
       "      <td>1</td>\n",
       "      <td>1</td>\n",
       "    </tr>\n",
       "    <tr>\n",
       "      <th>61</th>\n",
       "      <td>5</td>\n",
       "      <td>1</td>\n",
       "      <td>1504</td>\n",
       "      <td>999</td>\n",
       "      <td>1</td>\n",
       "      <td>123</td>\n",
       "      <td>2</td>\n",
       "      <td>0</td>\n",
       "      <td>36</td>\n",
       "      <td>5</td>\n",
       "      <td>...</td>\n",
       "      <td>3</td>\n",
       "      <td>43</td>\n",
       "      <td>4</td>\n",
       "      <td>68</td>\n",
       "      <td>197</td>\n",
       "      <td>1</td>\n",
       "      <td>8</td>\n",
       "      <td>3</td>\n",
       "      <td>5</td>\n",
       "      <td>5</td>\n",
       "    </tr>\n",
       "    <tr>\n",
       "      <th>72</th>\n",
       "      <td>5</td>\n",
       "      <td>1</td>\n",
       "      <td>1425</td>\n",
       "      <td>282</td>\n",
       "      <td>1</td>\n",
       "      <td>108</td>\n",
       "      <td>1</td>\n",
       "      <td>0</td>\n",
       "      <td>23</td>\n",
       "      <td>5</td>\n",
       "      <td>...</td>\n",
       "      <td>0</td>\n",
       "      <td>24</td>\n",
       "      <td>5</td>\n",
       "      <td>99</td>\n",
       "      <td>999</td>\n",
       "      <td>1</td>\n",
       "      <td>1</td>\n",
       "      <td>1</td>\n",
       "      <td>1</td>\n",
       "      <td>5</td>\n",
       "    </tr>\n",
       "  </tbody>\n",
       "</table>\n",
       "<p>5 rows × 22 columns</p>\n",
       "</div>"
      ],
      "text/plain": [
       "    pluralty  outcome  date  gestation  sex   wt  parity  race  age  ed  ...  \\\n",
       "id                                                                       ...   \n",
       "15         5        1  1411        284    1  120       1     8   27   5  ...   \n",
       "20         5        1  1499        282    1  113       2     0   33   5  ...   \n",
       "58         5        1  1576        279    1  128       1     0   28   2  ...   \n",
       "61         5        1  1504        999    1  123       2     0   36   5  ...   \n",
       "72         5        1  1425        282    1  108       1     0   23   5  ...   \n",
       "\n",
       "    drace  dage  ded  dht  dwt  marital  inc  smoke  time  number  \n",
       "id                                                                 \n",
       "15      8    31    5   65  110        1    1      0     0       0  \n",
       "20      0    38    5   70  148        1    4      0     0       0  \n",
       "58      5    32    1   99  999        1    2      1     1       1  \n",
       "61      3    43    4   68  197        1    8      3     5       5  \n",
       "72      0    24    5   99  999        1    1      1     1       5  \n",
       "\n",
       "[5 rows x 22 columns]"
      ]
     },
     "execution_count": 7,
     "metadata": {},
     "output_type": "execute_result"
    }
   ],
   "source": [
    "# for babies23\n",
    "babies23 = pd.read_csv (\"data/babies23.txt\", sep= '\\s{1,}').set_index(\"id\")\n",
    "babies23.head()"
   ]
  },
  {
   "cell_type": "markdown",
   "metadata": {},
   "source": [
    "#### Clean data"
   ]
  },
  {
   "cell_type": "code",
   "execution_count": 8,
   "metadata": {},
   "outputs": [
    {
     "data": {
      "text/html": [
       "<div>\n",
       "<style scoped>\n",
       "    .dataframe tbody tr th:only-of-type {\n",
       "        vertical-align: middle;\n",
       "    }\n",
       "\n",
       "    .dataframe tbody tr th {\n",
       "        vertical-align: top;\n",
       "    }\n",
       "\n",
       "    .dataframe thead th {\n",
       "        text-align: right;\n",
       "    }\n",
       "</style>\n",
       "<table border=\"1\" class=\"dataframe\">\n",
       "  <thead>\n",
       "    <tr style=\"text-align: right;\">\n",
       "      <th></th>\n",
       "      <th>bwt</th>\n",
       "      <th>smoke</th>\n",
       "    </tr>\n",
       "    <tr>\n",
       "      <th>id</th>\n",
       "      <th></th>\n",
       "      <th></th>\n",
       "    </tr>\n",
       "  </thead>\n",
       "  <tbody>\n",
       "    <tr>\n",
       "      <th>15</th>\n",
       "      <td>120</td>\n",
       "      <td>0</td>\n",
       "    </tr>\n",
       "    <tr>\n",
       "      <th>20</th>\n",
       "      <td>113</td>\n",
       "      <td>0</td>\n",
       "    </tr>\n",
       "    <tr>\n",
       "      <th>58</th>\n",
       "      <td>128</td>\n",
       "      <td>1</td>\n",
       "    </tr>\n",
       "    <tr>\n",
       "      <th>61</th>\n",
       "      <td>123</td>\n",
       "      <td>3</td>\n",
       "    </tr>\n",
       "    <tr>\n",
       "      <th>72</th>\n",
       "      <td>108</td>\n",
       "      <td>1</td>\n",
       "    </tr>\n",
       "  </tbody>\n",
       "</table>\n",
       "</div>"
      ],
      "text/plain": [
       "    bwt  smoke\n",
       "id            \n",
       "15  120      0\n",
       "20  113      0\n",
       "58  128      1\n",
       "61  123      3\n",
       "72  108      1"
      ]
     },
     "execution_count": 8,
     "metadata": {},
     "output_type": "execute_result"
    }
   ],
   "source": [
    "# temperarily use two variables only\n",
    "bwt_smoke_only = pd.DataFrame().assign(bwt = babies23.get(\"wt\"),\n",
    "                                      smoke = babies23.get(\"smoke\"))\n",
    "bwt_smoke_only.head()"
   ]
  },
  {
   "cell_type": "markdown",
   "metadata": {},
   "source": [
    "#### Partition Data"
   ]
  },
  {
   "cell_type": "markdown",
   "metadata": {},
   "source": [
    "Partition data by different smoke status of mothers"
   ]
  },
  {
   "cell_type": "code",
   "execution_count": 9,
   "metadata": {},
   "outputs": [],
   "source": [
    "smoke = bwt_smoke_only[bwt_smoke_only.get(\"smoke\") == 1]\n",
    "never_smoke = bwt_smoke_only[bwt_smoke_only.get(\"smoke\") == 0]\n",
    "until_preg = bwt_smoke_only[bwt_smoke_only.get(\"smoke\") == 2]\n",
    "once_did = bwt_smoke_only[bwt_smoke_only.get(\"smoke\") == 3]"
   ]
  },
  {
   "cell_type": "code",
   "execution_count": 10,
   "metadata": {},
   "outputs": [
    {
     "data": {
      "text/plain": [
       "10"
      ]
     },
     "execution_count": 10,
     "metadata": {},
     "output_type": "execute_result"
    }
   ],
   "source": [
    "unknown = bwt_smoke_only[bwt_smoke_only.get(\"smoke\") == 9]\n",
    "len(unknown)"
   ]
  },
  {
   "cell_type": "markdown",
   "metadata": {},
   "source": [
    "There is 10 observations which has no data about smoke status. Exclude them in the summaries and analysis."
   ]
  },
  {
   "cell_type": "markdown",
   "metadata": {},
   "source": [
    "#### Numerical Summaries"
   ]
  },
  {
   "cell_type": "markdown",
   "metadata": {},
   "source": [
    "Make a simple Data Frame for convenience"
   ]
  },
  {
   "cell_type": "code",
   "execution_count": 11,
   "metadata": {},
   "outputs": [
    {
     "data": {
      "text/plain": [
       "count    484.000000\n",
       "mean     114.109504\n",
       "std       18.098946\n",
       "min       58.000000\n",
       "25%      102.000000\n",
       "50%      115.000000\n",
       "75%      126.000000\n",
       "max      163.000000\n",
       "Name: bwt, dtype: float64"
      ]
     },
     "execution_count": 11,
     "metadata": {},
     "output_type": "execute_result"
    }
   ],
   "source": [
    "# for smoke\n",
    "smoke.get(\"bwt\").describe()"
   ]
  },
  {
   "cell_type": "code",
   "execution_count": 12,
   "metadata": {},
   "outputs": [
    {
     "data": {
      "text/plain": [
       "count    544.000000\n",
       "mean     122.777574\n",
       "std       17.109661\n",
       "min       55.000000\n",
       "25%      113.000000\n",
       "50%      124.000000\n",
       "75%      132.250000\n",
       "max      176.000000\n",
       "Name: bwt, dtype: float64"
      ]
     },
     "execution_count": 12,
     "metadata": {},
     "output_type": "execute_result"
    }
   ],
   "source": [
    "# for never_smoke\n",
    "never_smoke.get(\"bwt\").describe()"
   ]
  },
  {
   "cell_type": "code",
   "execution_count": 13,
   "metadata": {},
   "outputs": [
    {
     "data": {
      "text/plain": [
       "count     95.000000\n",
       "mean     123.084211\n",
       "std       17.803695\n",
       "min       62.000000\n",
       "25%      112.000000\n",
       "50%      122.000000\n",
       "75%      136.500000\n",
       "max      163.000000\n",
       "Name: bwt, dtype: float64"
      ]
     },
     "execution_count": 13,
     "metadata": {},
     "output_type": "execute_result"
    }
   ],
   "source": [
    "# for until_preg\n",
    "until_preg.get(\"bwt\").describe()"
   ]
  },
  {
   "cell_type": "code",
   "execution_count": 14,
   "metadata": {},
   "outputs": [
    {
     "data": {
      "text/plain": [
       "count    103.000000\n",
       "mean     124.436893\n",
       "std       18.608279\n",
       "min       65.000000\n",
       "25%      112.000000\n",
       "50%      124.000000\n",
       "75%      138.000000\n",
       "max      170.000000\n",
       "Name: bwt, dtype: float64"
      ]
     },
     "execution_count": 14,
     "metadata": {},
     "output_type": "execute_result"
    }
   ],
   "source": [
    "# for until_preg\n",
    "once_did.get(\"bwt\").describe()"
   ]
  },
  {
   "cell_type": "code",
   "execution_count": 15,
   "metadata": {},
   "outputs": [
    {
     "data": {
      "text/html": [
       "<div>\n",
       "<style scoped>\n",
       "    .dataframe tbody tr th:only-of-type {\n",
       "        vertical-align: middle;\n",
       "    }\n",
       "\n",
       "    .dataframe tbody tr th {\n",
       "        vertical-align: top;\n",
       "    }\n",
       "\n",
       "    .dataframe thead th {\n",
       "        text-align: right;\n",
       "    }\n",
       "</style>\n",
       "<table border=\"1\" class=\"dataframe\">\n",
       "  <thead>\n",
       "    <tr style=\"text-align: right;\">\n",
       "      <th></th>\n",
       "      <th>wt</th>\n",
       "      <th>smoke</th>\n",
       "    </tr>\n",
       "    <tr>\n",
       "      <th>id</th>\n",
       "      <th></th>\n",
       "      <th></th>\n",
       "    </tr>\n",
       "  </thead>\n",
       "  <tbody>\n",
       "    <tr>\n",
       "      <th>15</th>\n",
       "      <td>120</td>\n",
       "      <td>0</td>\n",
       "    </tr>\n",
       "    <tr>\n",
       "      <th>20</th>\n",
       "      <td>113</td>\n",
       "      <td>0</td>\n",
       "    </tr>\n",
       "    <tr>\n",
       "      <th>58</th>\n",
       "      <td>128</td>\n",
       "      <td>1</td>\n",
       "    </tr>\n",
       "    <tr>\n",
       "      <th>61</th>\n",
       "      <td>123</td>\n",
       "      <td>3</td>\n",
       "    </tr>\n",
       "    <tr>\n",
       "      <th>72</th>\n",
       "      <td>108</td>\n",
       "      <td>1</td>\n",
       "    </tr>\n",
       "  </tbody>\n",
       "</table>\n",
       "</div>"
      ],
      "text/plain": [
       "     wt  smoke\n",
       "id            \n",
       "15  120      0\n",
       "20  113      0\n",
       "58  128      1\n",
       "61  123      3\n",
       "72  108      1"
      ]
     },
     "execution_count": 15,
     "metadata": {},
     "output_type": "execute_result"
    }
   ],
   "source": [
    "data1 = babies23[['wt',\"smoke\"]]\n",
    "data1.head()"
   ]
  },
  {
   "cell_type": "code",
   "execution_count": 19,
   "metadata": {},
   "outputs": [
    {
     "name": "stdout",
     "output_type": "stream",
     "text": [
      "Distribution of birth weight for babies born to women who smoked During pragnancy:\n",
      "Average: 114.10950413223141\n",
      "Median: 115.0\n",
      "Minimum: 58\n",
      "Maximum: 163\n",
      "Std: 18.080238760547743\n"
     ]
    }
   ],
   "source": [
    "print(\"Distribution of birth weight for babies born to women who smoked During pragnancy:\")\n",
    "print(\"Average:\", np.mean(data1[data1['smoke'] == 1]['wt']))\n",
    "print(\"Median:\", median(data1[data1['smoke'] == 1]['wt']))\n",
    "print(\"Minimum:\", min(data1[data1['smoke'] == 1]['wt']))\n",
    "print(\"Maximum:\", max(data1[data1['smoke'] == 1]['wt']))\n",
    "print(\"Std:\", np.std(data1[data1['smoke'] == 1]['wt']))"
   ]
  },
  {
   "cell_type": "code",
   "execution_count": 20,
   "metadata": {},
   "outputs": [
    {
     "name": "stdout",
     "output_type": "stream",
     "text": [
      "Distribution of birth weight for babies born to women who never smoked:\n",
      "Average: 122.77757352941177\n",
      "Median: 124.0\n",
      "Minimum: 55\n",
      "Maximum: 176\n",
      "Std: 17.093927714263792\n"
     ]
    }
   ],
   "source": [
    "print(\"Distribution of birth weight for babies born to women who never smoked:\")\n",
    "print(\"Average:\", np.mean(data1[data1['smoke'] == 0]['wt']))\n",
    "print(\"Median:\", median(data1[data1['smoke'] == 0]['wt']))\n",
    "print(\"Minimum:\", min(data1[data1['smoke'] == 0]['wt']))\n",
    "print(\"Maximum:\", max(data1[data1['smoke'] == 0]['wt']))\n",
    "print(\"Std:\", np.std(data1[data1['smoke'] == 0]['wt']))"
   ]
  },
  {
   "cell_type": "markdown",
   "metadata": {},
   "source": [
    "#### Graphical Summaries"
   ]
  },
  {
   "cell_type": "markdown",
   "metadata": {},
   "source": [
    "Make histogram for each categories."
   ]
  },
  {
   "cell_type": "code",
   "execution_count": 18,
   "metadata": {},
   "outputs": [
    {
     "data": {
      "text/plain": [
       "<AxesSubplot:ylabel='Frequency'>"
      ]
     },
     "execution_count": 18,
     "metadata": {},
     "output_type": "execute_result"
    },
    {
     "data": {
      "image/png": "[encoded data removed]",
      "text/plain": [
       "<Figure size 432x288 with 1 Axes>"
      ]
     },
     "metadata": {
      "needs_background": "light"
     },
     "output_type": "display_data"
    }
   ],
   "source": [
    "# smoke == 1, smoking mothers\n",
    "smoke.get(\"bwt\").plot(kind = \"hist\", bins = np.arange(40, 180, 10), color = \"blue\", density = True)"
   ]
  },
  {
   "cell_type": "code",
   "execution_count": 21,
   "metadata": {},
   "outputs": [
    {
     "data": {
      "text/plain": [
       "<AxesSubplot:ylabel='Frequency'>"
      ]
     },
     "execution_count": 21,
     "metadata": {},
     "output_type": "execute_result"
    },
    {
     "data": {
      "image/png": "[encoded data removed]",
      "text/plain": [
       "<Figure size 432x288 with 1 Axes>"
      ]
     },
     "metadata": {
      "needs_background": "light"
     },
     "output_type": "display_data"
    }
   ],
   "source": [
    "# smoke == 0, non-smoking mothers\n",
    "never_smoke.get(\"bwt\").plot(kind = \"hist\", bins = np.arange(40, 180, 10), color = \"orange\", density = True)"
   ]
  },
  {
   "cell_type": "code",
   "execution_count": 22,
   "metadata": {},
   "outputs": [
    {
     "data": {
      "text/plain": [
       "<AxesSubplot:ylabel='Frequency'>"
      ]
     },
     "execution_count": 22,
     "metadata": {},
     "output_type": "execute_result"
    },
    {
     "data": {
      "image/png": "[encoded data removed]",
      "text/plain": [
       "<Figure size 432x288 with 1 Axes>"
      ]
     },
     "metadata": {
      "needs_background": "light"
     },
     "output_type": "display_data"
    }
   ],
   "source": [
    "# smoke == 2, smoking until preganancy mothers\n",
    "until_preg.get(\"bwt\").plot(kind = \"hist\", bins = np.arange(40, 180, 10), color = \"green\", density = True)"
   ]
  },
  {
   "cell_type": "code",
   "execution_count": 23,
   "metadata": {},
   "outputs": [
    {
     "data": {
      "text/plain": [
       "<AxesSubplot:ylabel='Frequency'>"
      ]
     },
     "execution_count": 23,
     "metadata": {},
     "output_type": "execute_result"
    },
    {
     "data": {
      "image/png": "[encoded data removed]",
      "text/plain": [
       "<Figure size 432x288 with 1 Axes>"
      ]
     },
     "metadata": {
      "needs_background": "light"
     },
     "output_type": "display_data"
    }
   ],
   "source": [
    "# smoke == 3, once smoked mothers\n",
    "once_did.get(\"bwt\").plot(kind = \"hist\", bins = np.arange(40, 180, 10), color = \"red\", density = True)"
   ]
  },
  {
   "cell_type": "code",
   "execution_count": 24,
   "metadata": {},
   "outputs": [
    {
     "data": {
      "text/plain": [
       "<matplotlib.legend.Legend at 0x27fcb820a00>"
      ]
     },
     "execution_count": 24,
     "metadata": {},
     "output_type": "execute_result"
    },
    {
     "data": {
      "image/png": "[encoded data removed]",
      "text/plain": [
       "<Figure size 432x288 with 1 Axes>"
      ]
     },
     "metadata": {
      "needs_background": "light"
     },
     "output_type": "display_data"
    }
   ],
   "source": [
    "# overlaid histogram for smoking and non-smoking mothers\n",
    "smoke.get(\"bwt\").plot(kind = \"hist\", bins = np.arange(40, 180, 10), alpha = 0.6, color = \"blue\", density = True)\n",
    "never_smoke.get(\"bwt\").plot(kind = \"hist\", bins = np.arange(40, 180, 10), alpha = 0.6, color = \"orange\", density = True)\n",
    "plt.legend([\"smoke\", \"never-smoke\"])"
   ]
  },
  {
   "cell_type": "markdown",
   "metadata": {},
   "source": [
    "Use quantile-quantile plot"
   ]
  },
  {
   "cell_type": "code",
   "execution_count": 25,
   "metadata": {},
   "outputs": [],
   "source": [
    "def getQuantile(data):\n",
    "    output = np.array([])\n",
    "    for i in np.arange(0, 1.01, 0.01):\n",
    "        output = np.append(output, np.quantile(data, i))\n",
    "    return output"
   ]
  },
  {
   "cell_type": "code",
   "execution_count": 26,
   "metadata": {},
   "outputs": [
    {
     "data": {
      "text/plain": [
       "[<matplotlib.lines.Line2D at 0x27fcb7e44c0>]"
      ]
     },
     "execution_count": 26,
     "metadata": {},
     "output_type": "execute_result"
    },
    {
     "data": {
      "image/png": "[encoded data removed]",
      "text/plain": [
       "<Figure size 432x288 with 1 Axes>"
      ]
     },
     "metadata": {
      "needs_background": "light"
     },
     "output_type": "display_data"
    }
   ],
   "source": [
    "quantile_smoke = getQuantile(smoke.get(\"bwt\"))\n",
    "quantile_nonSmoke = getQuantile(never_smoke.get(\"bwt\"))\n",
    "\n",
    "plt.scatter(np.sort(quantile_smoke), quantile_nonSmoke)\n",
    "plt.xlabel(\"smoke\")\n",
    "plt.ylabel(\"never_smoke\")\n",
    "# use 55 and 176 since 55 is min in both groups, and 176 is max in both groups\n",
    "plt.plot(np.arange(55, 176), np.arange(55, 176), color = \"red\")"
   ]
  },
  {
   "cell_type": "code",
   "execution_count": 27,
   "metadata": {},
   "outputs": [
    {
     "data": {
      "text/plain": [
       "<matplotlib.lines.Line2D at 0x27fcb723250>"
      ]
     },
     "execution_count": 27,
     "metadata": {},
     "output_type": "execute_result"
    },
    {
     "data": {
      "image/png": "[encoded data removed]",
      "text/plain": [
       "<Figure size 432x288 with 1 Axes>"
      ]
     },
     "metadata": {
      "needs_background": "light"
     },
     "output_type": "display_data"
    }
   ],
   "source": [
    "# for low-weight babies of smoke group\n",
    "smoke.get(\"bwt\").plot(kind = \"hist\", bins = np.arange(40, 180, 10), color = \"blue\", density = True)\n",
    "plt.axvline(x = 88, color = \"red\")"
   ]
  },
  {
   "cell_type": "code",
   "execution_count": 28,
   "metadata": {},
   "outputs": [
    {
     "data": {
      "text/plain": [
       "<matplotlib.lines.Line2D at 0x27fcc973df0>"
      ]
     },
     "execution_count": 28,
     "metadata": {},
     "output_type": "execute_result"
    },
    {
     "data": {
      "image/png": "[encoded data removed]",
      "text/plain": [
       "<Figure size 432x288 with 1 Axes>"
      ]
     },
     "metadata": {
      "needs_background": "light"
     },
     "output_type": "display_data"
    }
   ],
   "source": [
    "# for low-weight babies of non-smoke group\n",
    "never_smoke.get(\"bwt\").plot(kind = \"hist\", bins = np.arange(40, 180, 10), color = \"orange\", density = True)\n",
    "plt.axvline(x = 88, color = \"red\")"
   ]
  },
  {
   "cell_type": "code",
   "execution_count": 29,
   "metadata": {},
   "outputs": [
    {
     "data": {
      "text/plain": [
       "<matplotlib.lines.Line2D at 0x27fcc9ab8b0>"
      ]
     },
     "execution_count": 29,
     "metadata": {},
     "output_type": "execute_result"
    },
    {
     "data": {
      "image/png": "[encoded data removed]",
      "text/plain": [
       "<Figure size 432x288 with 1 Axes>"
      ]
     },
     "metadata": {
      "needs_background": "light"
     },
     "output_type": "display_data"
    }
   ],
   "source": [
    "smoke.get(\"bwt\").plot(kind = \"hist\", bins = np.arange(40, 180, 10), alpha = 0.6, color = \"blue\", density = True)\n",
    "never_smoke.get(\"bwt\").plot(kind = \"hist\", bins = np.arange(40, 180, 10), alpha = 0.6, color = \"orange\", density = True)\n",
    "plt.legend([\"smoke\", \"never-smoke\"])\n",
    "plt.axvline(x = 88, color = \"red\")"
   ]
  },
  {
   "cell_type": "markdown",
   "metadata": {},
   "source": [
    "Frequencies:"
   ]
  },
  {
   "cell_type": "code",
   "execution_count": 30,
   "metadata": {},
   "outputs": [
    {
     "name": "stdout",
     "output_type": "stream",
     "text": [
      "Frequency of low-birth-weight babies born to women who smokes: 0.08264462809917356\n",
      "Frequency of low-birth-weight babies born to women who never smoked: 0.03512396694214876\n"
     ]
    }
   ],
   "source": [
    "print(\"Frequency of low-birth-weight babies born to women who smokes:\",len(data1[(data1['smoke'] == 1) & (data1['wt'] <= 88)])/len(data1[(data1['smoke'] == 1)]))\n",
    "print(\"Frequency of low-birth-weight babies born to women who never smoked:\",len(data1[(data1['smoke'] == 0) & (data1['wt'] <= 88)])/len(data1[(data1['smoke'] == 1)]))"
   ]
  },
  {
   "cell_type": "markdown",
   "metadata": {},
   "source": [
    "randomly select 300 samples from each group then calculate frequency again:"
   ]
  },
  {
   "cell_type": "code",
   "execution_count": 31,
   "metadata": {},
   "outputs": [
    {
     "name": "stdout",
     "output_type": "stream",
     "text": [
      "Frequency of low-birth-weight babies born to women who smokes: 0.09666666666666666\n",
      "Frequency of low-birth-weight babies born to women who never smoked: 0.023333333333333334\n"
     ]
    }
   ],
   "source": [
    "smoke = data1[(data1['smoke'] == 1)].sample(n = 300)\n",
    "not_smoke = data1[(data1['smoke'] == 0)].sample(n = 300)\n",
    "\n",
    "print(\"Frequency of low-birth-weight babies born to women who smokes:\",len(smoke[smoke[\"wt\"] <= 88])/300)\n",
    "print(\"Frequency of low-birth-weight babies born to women who never smoked:\",len(not_smoke[not_smoke[\"wt\"] <= 88])/300)"
   ]
  },
  {
   "cell_type": "code",
   "execution_count": null,
   "metadata": {},
   "outputs": [],
   "source": []
  }
 ],
 "metadata": {
  "kernelspec": {
   "display_name": "Python 3",
   "language": "python",
   "name": "python3"
  },
  "language_info": {
   "codemirror_mode": {
    "name": "ipython",
    "version": 3
   },
   "file_extension": ".py",
   "mimetype": "text/x-python",
   "name": "python",
   "nbconvert_exporter": "python",
   "pygments_lexer": "ipython3",
   "version": "3.8.5"
  }
 },
 "nbformat": 4,
 "nbformat_minor": 4
}
